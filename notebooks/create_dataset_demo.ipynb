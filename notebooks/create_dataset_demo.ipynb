{
 "cells": [
  {
   "cell_type": "code",
   "execution_count": 1,
   "id": "15ebf0ae-152f-4dac-98f5-419675af3e1e",
   "metadata": {},
   "outputs": [
    {
     "name": "stderr",
     "output_type": "stream",
     "text": [
      "/n/home00/zeyuanhu/.local/lib/python3.10/site-packages/IPython/core/magics/osm.py:417: UserWarning: This is now an optional IPython functionality, setting dhist requires you to install the `pickleshare` library.\n",
      "  self.shell.db['dhist'] = compress_dhist(dhist)[-100:]\n"
     ]
    },
    {
     "name": "stdout",
     "output_type": "stream",
     "text": [
      "/n/home00/zeyuanhu/ClimCorrector\n"
     ]
    }
   ],
   "source": [
    "%cd /n/home00/zeyuanhu/ClimCorrector\n",
    "from utils.data_utils import *"
   ]
  },
  {
   "cell_type": "code",
   "execution_count": 2,
   "id": "c904cf2c-89a7-466b-9f7b-b1e24dd1944f",
   "metadata": {},
   "outputs": [],
   "source": [
    "data = data_utils(normalize=False,\n",
    "                  save_h5=True,\n",
    "                  save_npy=False\n",
    "                  )"
   ]
  },
  {
   "cell_type": "code",
   "execution_count": 3,
   "id": "960c2d4f-38bd-4504-b87f-0005c971ca1c",
   "metadata": {},
   "outputs": [],
   "source": [
    "# set the path to model outputs\n",
    "data.data_path = '/n/home04/sweidman/cesm_output/replay_state_ind1/atm/hist/'\n",
    "# set the input and target features\n",
    "data.set_to_v1_vars()"
   ]
  },
  {
   "cell_type": "markdown",
   "id": "5d234094-a589-46b3-bdb4-2cbc8115e4b5",
   "metadata": {},
   "source": [
    "Below are the current input/target features as a demo. We can modify the data_utiles class to include more features."
   ]
  },
  {
   "cell_type": "code",
   "execution_count": 4,
   "id": "422944ba-44f0-4cd2-a5ce-6529cf85c89f",
   "metadata": {},
   "outputs": [
    {
     "data": {
      "text/plain": [
       "['T',\n",
       " 'Q',\n",
       " 'U',\n",
       " 'V',\n",
       " 'PS',\n",
       " 'SOLIN',\n",
       " 'LHFLX',\n",
       " 'SHFLX',\n",
       " 'SNOWHLND',\n",
       " 'attri_lat',\n",
       " 'TOD',\n",
       " 'TOY']"
      ]
     },
     "execution_count": 4,
     "metadata": {},
     "output_type": "execute_result"
    }
   ],
   "source": [
    "data.input_vars"
   ]
  },
  {
   "cell_type": "code",
   "execution_count": 5,
   "id": "b20f0413-e56f-4516-b012-af44ff781bf2",
   "metadata": {},
   "outputs": [
    {
     "data": {
      "text/plain": [
       "['SDIFF', 'QDIFF', 'UDIFF', 'VDIFF']"
      ]
     },
     "execution_count": 5,
     "metadata": {},
     "output_type": "execute_result"
    }
   ],
   "source": [
    "data.target_vars"
   ]
  },
  {
   "cell_type": "markdown",
   "id": "8c0cec06-fc9f-4afd-98b6-cc20f658b0fc",
   "metadata": {},
   "source": [
    "Here we set which files we want to process, extract the input and target features, and stack into a single input/target file. When the data_split is set to 'train', the saved filename will include 'train'. Similarly you can change it to 'val' or 'test'."
   ]
  },
  {
   "cell_type": "code",
   "execution_count": 6,
   "id": "c936635d-f261-4e9b-8ab2-e0208372c22a",
   "metadata": {},
   "outputs": [],
   "source": [
    "# set regular expressions for selecting training data\n",
    "data.set_regexps(data_split = 'train', \n",
    "                regexps = ['replay_state_ind1.cam.h1.0002-01-*-*.nc', \n",
    "                        'replay_state_ind1.cam.h1.0002-02-*-*.nc'])\n",
    "# set temporal subsampling\n",
    "data.set_stride_sample(data_split = 'train', stride_sample = 10)\n",
    "# create list of files to extract data from\n",
    "data.set_filelist(data_split = 'train', start_idx=0)"
   ]
  },
  {
   "cell_type": "code",
   "execution_count": 7,
   "id": "17b4034f-440a-4bf5-8d24-86ded3cad95a",
   "metadata": {},
   "outputs": [
    {
     "data": {
      "text/plain": [
       "['/n/home04/sweidman/cesm_output/replay_state_ind1/atm/hist/replay_state_ind1.cam.h1.0002-01-01-00000.nc',\n",
       " '/n/home04/sweidman/cesm_output/replay_state_ind1/atm/hist/replay_state_ind1.cam.h1.0002-01-06-00000.nc',\n",
       " '/n/home04/sweidman/cesm_output/replay_state_ind1/atm/hist/replay_state_ind1.cam.h1.0002-01-11-00000.nc',\n",
       " '/n/home04/sweidman/cesm_output/replay_state_ind1/atm/hist/replay_state_ind1.cam.h1.0002-01-16-00000.nc',\n",
       " '/n/home04/sweidman/cesm_output/replay_state_ind1/atm/hist/replay_state_ind1.cam.h1.0002-01-21-00000.nc',\n",
       " '/n/home04/sweidman/cesm_output/replay_state_ind1/atm/hist/replay_state_ind1.cam.h1.0002-01-26-00000.nc',\n",
       " '/n/home04/sweidman/cesm_output/replay_state_ind1/atm/hist/replay_state_ind1.cam.h1.0002-01-31-00000.nc',\n",
       " '/n/home04/sweidman/cesm_output/replay_state_ind1/atm/hist/replay_state_ind1.cam.h1.0002-02-05-00000.nc',\n",
       " '/n/home04/sweidman/cesm_output/replay_state_ind1/atm/hist/replay_state_ind1.cam.h1.0002-02-10-00000.nc',\n",
       " '/n/home04/sweidman/cesm_output/replay_state_ind1/atm/hist/replay_state_ind1.cam.h1.0002-02-15-00000.nc',\n",
       " '/n/home04/sweidman/cesm_output/replay_state_ind1/atm/hist/replay_state_ind1.cam.h1.0002-02-20-00000.nc',\n",
       " '/n/home04/sweidman/cesm_output/replay_state_ind1/atm/hist/replay_state_ind1.cam.h1.0002-02-25-00000.nc']"
      ]
     },
     "execution_count": 7,
     "metadata": {},
     "output_type": "execute_result"
    }
   ],
   "source": [
    "data.get_filelist('train')"
   ]
  },
  {
   "cell_type": "markdown",
   "id": "3105cc1a-f277-4807-a97f-87735def4cc5",
   "metadata": {},
   "source": [
    "The following command will process the list of files above and create single input/target files."
   ]
  },
  {
   "cell_type": "code",
   "execution_count": 8,
   "id": "e06b009f-7d10-4619-b25d-ae43912eeead",
   "metadata": {},
   "outputs": [],
   "source": [
    "data.save_data(data_split = 'train', save_path = '/n/home00/zeyuanhu/holylfs04/preprocessing/test1/')"
   ]
  },
  {
   "cell_type": "code",
   "execution_count": 9,
   "id": "b7c7e94a-097e-47c3-bea0-ea8f52c53dd6",
   "metadata": {},
   "outputs": [
    {
     "name": "stdout",
     "output_type": "stream",
     "text": [
      "train_input.h5  train_target.h5\n"
     ]
    }
   ],
   "source": [
    "%ls /n/home00/zeyuanhu/holylfs04/preprocessing/test1/"
   ]
  },
  {
   "cell_type": "markdown",
   "id": "9cfe714f-0a3c-4136-aa48-45be7e717175",
   "metadata": {},
   "source": [
    "Now let's take a look into saved input file for sanity check:"
   ]
  },
  {
   "cell_type": "code",
   "execution_count": 10,
   "id": "d32f9620-3347-4f50-93da-512edb02ab07",
   "metadata": {},
   "outputs": [
    {
     "name": "stdout",
     "output_type": "stream",
     "text": [
      "Keys in the file: ['data']\n",
      "Data shape: (331776, 112)\n",
      "Data type: float32\n"
     ]
    }
   ],
   "source": [
    "with h5py.File('/n/home00/zeyuanhu/holylfs04/preprocessing/test1/train_input.h5', 'r') as f:\n",
    "    # List all groups/datasets in the file\n",
    "    print(\"Keys in the file:\", list(f.keys()))\n",
    "\n",
    "    data = f['data'][:]\n",
    "    print(\"Data shape:\", data.shape)\n",
    "    print(\"Data type:\", data.dtype)"
   ]
  },
  {
   "cell_type": "code",
   "execution_count": 11,
   "id": "74ac182f-f5e2-4ae3-8b12-8b7c8cdfc019",
   "metadata": {},
   "outputs": [
    {
     "data": {
      "text/plain": [
       "array([ 2.33583878e+02,  2.23490265e+02,  2.25265533e+02,  2.21099289e+02,\n",
       "        2.14182281e+02,  2.05792191e+02,  1.94806122e+02,  1.86075912e+02,\n",
       "        1.94646103e+02,  1.97292267e+02,  2.03056854e+02,  2.08430664e+02,\n",
       "        2.15674271e+02,  2.23713913e+02,  2.32998428e+02,  2.43536331e+02,\n",
       "        2.52213394e+02,  2.63553162e+02,  2.70292145e+02,  2.75359589e+02,\n",
       "        2.82301514e+02,  2.85387238e+02,  2.89969208e+02,  2.94106079e+02,\n",
       "        2.96823090e+02,  2.98135773e+02,  1.79253891e-06,  1.80363634e-06,\n",
       "        1.81429868e-06,  1.82693486e-06,  1.85724093e-06,  1.86643365e-06,\n",
       "        1.54794839e-06,  1.04902256e-06,  2.83734721e-06,  3.23241989e-06,\n",
       "        4.20088190e-06,  6.02836781e-06,  9.89210366e-06,  1.89287493e-05,\n",
       "        7.45598154e-05,  1.45834550e-04,  2.17529931e-04,  2.18126544e-04,\n",
       "        1.48609234e-03,  6.22547511e-03,  7.13074021e-03,  1.09057035e-02,\n",
       "        1.28113087e-02,  1.44042764e-02,  1.62228756e-02,  1.79639459e-02,\n",
       "       -4.99510117e+01, -2.81312561e+01, -1.80738316e+01, -1.37427006e+01,\n",
       "       -7.95808029e+00, -6.52696562e+00, -8.99302673e+00, -8.03719878e-01,\n",
       "        1.51601286e+01,  1.85448570e+01,  2.64342880e+01,  2.52102680e+01,\n",
       "        2.27725906e+01,  1.99614010e+01,  1.47682800e+01,  6.89519739e+00,\n",
       "        3.11040092e+00,  3.06919312e+00, -5.42001915e+00, -7.21349382e+00,\n",
       "       -8.67241192e+00, -5.57701540e+00, -2.28677249e+00, -2.51489758e-01,\n",
       "        3.82987857e-01,  6.89215302e-01,  1.17623079e+00,  4.18095827e+00,\n",
       "        3.36115026e+00, -1.32478321e+00, -1.16659236e+00, -2.75369310e+00,\n",
       "        7.55570531e-01, -3.66096902e+00, -4.58853340e+00,  5.74652147e+00,\n",
       "        5.98817873e+00,  3.58891463e+00, -2.63317847e+00, -1.14238749e+01,\n",
       "       -9.71425724e+00, -5.45193958e+00, -1.72018194e+00,  7.34736502e-01,\n",
       "        3.47145081e+00,  3.64234710e+00,  8.40499699e-01, -1.10617232e+00,\n",
       "       -1.45406985e+00, -6.71046257e-01, -4.84356850e-01, -3.66393596e-01,\n",
       "        1.01078398e+05,  0.00000000e+00,  3.16804619e+01,  5.69472647e+00,\n",
       "        0.00000000e+00,  9.47368443e-01,  0.00000000e+00,  1.00000000e+00],\n",
       "      dtype=float32)"
      ]
     },
     "execution_count": 11,
     "metadata": {},
     "output_type": "execute_result"
    }
   ],
   "source": [
    "data[48*144,:] # list the stacked input for a column near equator"
   ]
  },
  {
   "cell_type": "code",
   "execution_count": null,
   "id": "22c1e9fa-039a-4667-8175-5792d673972c",
   "metadata": {},
   "outputs": [],
   "source": []
  }
 ],
 "metadata": {
  "kernelspec": {
   "display_name": "ClimCorr",
   "language": "python",
   "name": "climcorr"
  },
  "language_info": {
   "codemirror_mode": {
    "name": "ipython",
    "version": 3
   },
   "file_extension": ".py",
   "mimetype": "text/x-python",
   "name": "python",
   "nbconvert_exporter": "python",
   "pygments_lexer": "ipython3",
   "version": "3.10.14"
  }
 },
 "nbformat": 4,
 "nbformat_minor": 5
}
