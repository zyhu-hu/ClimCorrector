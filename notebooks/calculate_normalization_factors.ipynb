{
 "cells": [
  {
   "cell_type": "code",
   "execution_count": 1,
   "id": "2e76b31c-c189-4ce9-b6cc-7e24fe5128bb",
   "metadata": {},
   "outputs": [
    {
     "name": "stderr",
     "output_type": "stream",
     "text": [
      "/n/home00/zeyuanhu/.local/lib/python3.10/site-packages/IPython/core/magics/osm.py:417: UserWarning: This is now an optional IPython functionality, setting dhist requires you to install the `pickleshare` library.\n",
      "  self.shell.db['dhist'] = compress_dhist(dhist)[-100:]\n"
     ]
    },
    {
     "name": "stdout",
     "output_type": "stream",
     "text": [
      "/n/home00/zeyuanhu/ClimCorrector\n"
     ]
    }
   ],
   "source": [
    "%cd /n/home00/zeyuanhu/ClimCorrector\n",
    "from utils.data_utils import *"
   ]
  },
  {
   "cell_type": "code",
   "execution_count": 2,
   "id": "e4b6c4c7-3eb9-407a-a22b-a7fff67db653",
   "metadata": {},
   "outputs": [
    {
     "name": "stdout",
     "output_type": "stream",
     "text": [
      "Keys in the file: ['data']\n",
      "Data shape: (28836864, 112)\n",
      "Data type: float32\n"
     ]
    }
   ],
   "source": [
    "# open the input file which contains 10 year's input data (with a subsampled list of files with stride of 7)\n",
    "with h5py.File('/n/home00/zeyuanhu/scratch/climcorr_preprocessing/v1_test1_10year_sub7/train_input.h5', 'r') as f:\n",
    "    # List all groups/datasets in the file\n",
    "    print(\"Keys in the file:\", list(f.keys()))\n",
    "\n",
    "    data = f['data'][:]\n",
    "    print(\"Data shape:\", data.shape)\n",
    "    print(\"Data type:\", data.dtype)"
   ]
  },
  {
   "cell_type": "code",
   "execution_count": 4,
   "id": "d3995deb-90d4-4a4a-81bf-7449c59791ba",
   "metadata": {},
   "outputs": [],
   "source": [
    "data_mean = data.mean(axis=0,dtype=np.float64)\n",
    "data_std = data.std(axis=0,dtype=np.float64)\n",
    "data_min = data.min(axis=0)\n",
    "data_max = data.max(axis=0)\n"
   ]
  },
  {
   "cell_type": "code",
   "execution_count": 5,
   "id": "ea833961-afac-40c2-8fa4-5d4dbe47267e",
   "metadata": {},
   "outputs": [],
   "source": [
    "#save input scaling files\n",
    "path = '/n/home00/zeyuanhu/ClimCorrector/preprocessing/normalization/inputs/'\n",
    "np.save(path+'input_mean_v1_test1_10year_sub7.npy',data_mean)\n",
    "np.save(path+'input_std_v1_test1_10year_sub7.npy',data_std)\n",
    "np.save(path+'input_min_v1_test1_10year_sub7.npy',data_min)\n",
    "np.save(path+'input_max_v1_test1_10year_sub7.npy',data_max)"
   ]
  },
  {
   "cell_type": "code",
   "execution_count": 6,
   "id": "511c4105-4811-4dc5-bb79-6b2932ded3d6",
   "metadata": {},
   "outputs": [
    {
     "name": "stdout",
     "output_type": "stream",
     "text": [
      "Keys in the file: ['data']\n",
      "Data shape: (28836864, 104)\n",
      "Data type: float32\n"
     ]
    }
   ],
   "source": [
    "#read target data\n",
    "with h5py.File('/n/home00/zeyuanhu/scratch/climcorr_preprocessing/v1_test1_10year_sub7/train_target.h5', 'r') as f1:\n",
    "    # List all groups/datasets in the file\n",
    "    print(\"Keys in the file:\", list(f1.keys()))\n",
    "\n",
    "    data1 = f1['data'][:]\n",
    "    print(\"Data shape:\", data1.shape)\n",
    "    print(\"Data type:\", data1.dtype)"
   ]
  },
  {
   "cell_type": "code",
   "execution_count": 7,
   "id": "7e2f45f9-26bd-4850-ba2f-5fb480524411",
   "metadata": {},
   "outputs": [],
   "source": [
    "data1_mean = data1.mean(axis=0,dtype=np.float64)\n",
    "data1_std = data1.std(axis=0,dtype=np.float64)\n",
    "data1_min = data1.min(axis=0)\n",
    "data1_max = data1.max(axis=0)\n"
   ]
  },
  {
   "cell_type": "code",
   "execution_count": 8,
   "id": "44ceaafc-a27b-42ee-8441-61be8f86f531",
   "metadata": {},
   "outputs": [],
   "source": [
    "#save output scaling files\n",
    "path = '/n/home00/zeyuanhu/ClimCorrector/preprocessing/normalization/outputs/'\n",
    "np.save(path+'target_mean_v1_test1_10year_sub7.npy',data1_mean)\n",
    "np.save(path+'target_std_v1_test1_10year_sub7.npy',data1_std)\n",
    "np.save(path+'target_min_v1_test1_10year_sub7.npy',data1_min)\n",
    "np.save(path+'target_max_v1_test1_10year_sub7.npy',data1_max)"
   ]
  },
  {
   "cell_type": "code",
   "execution_count": null,
   "id": "ee68b057-12fe-4657-8e4d-0a9eac1b7f85",
   "metadata": {},
   "outputs": [],
   "source": []
  }
 ],
 "metadata": {
  "kernelspec": {
   "display_name": "ClimCorr",
   "language": "python",
   "name": "climcorr"
  },
  "language_info": {
   "codemirror_mode": {
    "name": "ipython",
    "version": 3
   },
   "file_extension": ".py",
   "mimetype": "text/x-python",
   "name": "python",
   "nbconvert_exporter": "python",
   "pygments_lexer": "ipython3",
   "version": "3.10.14"
  }
 },
 "nbformat": 4,
 "nbformat_minor": 5
}
